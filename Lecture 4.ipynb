{
 "cells": [
  {
   "cell_type": "markdown",
   "metadata": {},
   "source": [
    "## Lecture 4 - Pre-made Deep Neural Network Estimators in TF ##\n",
    "In this Lecture, We are going to use deep learning to predict if a student is accepted or not accepted using a pre-made estimator named \"DNNClassifier\""
   ]
  },
  {
   "cell_type": "code",
   "execution_count": 1,
   "metadata": {},
   "outputs": [
    {
     "name": "stderr",
     "output_type": "stream",
     "text": [
      "/Users/cihan/anaconda3/lib/python3.6/site-packages/h5py/__init__.py:36: FutureWarning: Conversion of the second argument of issubdtype from `float` to `np.floating` is deprecated. In future, it will be treated as `np.float64 == np.dtype(float).type`.\n",
      "  from ._conv import register_converters as _register_converters\n"
     ]
    }
   ],
   "source": [
    "import tensorflow as tf\n",
    "\n",
    "# Plot drawing library\n",
    "import matplotlib.pyplot as plt\n",
    "\n",
    "# Make plots usable in notebook\n",
    "%matplotlib inline"
   ]
  },
  {
   "cell_type": "markdown",
   "metadata": {},
   "source": [
    "### Prepare data ###\n",
    "We will have 2 features that will be used for model. Let's assume they are math and english scores for a student. We have 40 data points."
   ]
  },
  {
   "cell_type": "code",
   "execution_count": 6,
   "metadata": {
    "collapsed": true
   },
   "outputs": [],
   "source": [
    "data = [[35, 40],[43, 30],[38, 31],[40, 40],[30, 50],[40, 60],[30, 50],[20, 60],[50, 50],[43, 50],\n",
    "        [35, 40],[43, 30],[31, 21],[40, 60],[30, 50],[40, 60],[27, 67],[45, 54],[34, 43],[43, 40],\n",
    "        [85, 90],[83, 80],[78, 91],[60, 90],[75, 85],[78, 80],[98, 80],[90, 60],[93, 83],[73, 93],\n",
    "        [82, 94],[93, 62],[69, 75],[80, 60],[70, 90],[90, 60],[97, 67],[65, 84],[74, 95],[98, 83]]\n",
    "labels = [0, 0, 0, 0, 0, 0, 0, 0, 0, 0, 0, 0, 0, 0, 0, 0, 0, 0, 0, 0,\n",
    "          1, 1, 1, 1, 1, 1, 1, 1, 1, 1, 1, 1, 1, 1, 1, 1, 1, 1, 1, 1]"
   ]
  },
  {
   "cell_type": "markdown",
   "metadata": {},
   "source": [
    "### Let's see our data on a plot ###\n",
    "We created a plot using Matplotlib. As you see, the green dots are the students who are accepted. Our classifier will detect if a new student is accepted or not."
   ]
  },
  {
   "cell_type": "code",
   "execution_count": 11,
   "metadata": {},
   "outputs": [
    {
     "data": {
      "text/plain": [
       "[]"
      ]
     },
     "execution_count": 11,
     "metadata": {},
     "output_type": "execute_result"
    },
    {
     "data": {
      "image/png": "[encoded data removed]",
      "text/plain": [
       "<matplotlib.figure.Figure at 0x181fd15f98>"
      ]
     },
     "metadata": {},
     "output_type": "display_data"
    }
   ],
   "source": [
    "for i in range(len(data)):\n",
    "    if labels[i] == 1:\n",
    "        plt.scatter(data[i][0], data[i][1], s=120, marker='+', linewidths=2, color='green')\n",
    "    else:\n",
    "        plt.scatter(data[i][0], data[i][1], s=120, marker='+', linewidths=2, color='red')\n",
    "plt.plot()"
   ]
  },
  {
   "cell_type": "markdown",
   "metadata": {},
   "source": [
    "### Prepare input function ###\n",
    "As we learned from Lecture 3, this function will run while running training function and put the data into the training process."
   ]
  },
  {
   "cell_type": "code",
   "execution_count": 12,
   "metadata": {
    "collapsed": true
   },
   "outputs": [],
   "source": [
    "def input_func():\n",
    "    global data \n",
    "    global labels\n",
    "    mathArray, englishArray = [], []\n",
    "    for data_point in data:\n",
    "        mathArray.append(data_point[0])\n",
    "        englishArray.append(data_point[1])\n",
    "    feature_dict = {\"math_score\": mathArray, \"english_score\": englishArray}\n",
    "    return feature_dict, labels"
   ]
  },
  {
   "cell_type": "markdown",
   "metadata": {},
   "source": [
    "### Create Feature Columns ### "
   ]
  },
  {
   "cell_type": "code",
   "execution_count": 13,
   "metadata": {
    "collapsed": true
   },
   "outputs": [],
   "source": [
    "student_feature_columns = [tf.feature_column.numeric_column(\"math_score\"), \n",
    "                           tf.feature_column.numeric_column(\"english_score\")]"
   ]
  },
  {
   "cell_type": "markdown",
   "metadata": {},
   "source": [
    "### Create an Deep Neural Network Estimator ###\n",
    "- We will use 2 hidden layers with 8 nodes. \n",
    "- We have two classes: \"Accepted\" or \"Not Accepted\""
   ]
  },
  {
   "cell_type": "code",
   "execution_count": 14,
   "metadata": {
    "scrolled": false
   },
   "outputs": [
    {
     "name": "stdout",
     "output_type": "stream",
     "text": [
      "INFO:tensorflow:Using default config.\n",
      "WARNING:tensorflow:Using temporary folder as model directory: /var/folders/_7/c28_8vl522n4nj1h8x0r4m300000gn/T/tmpkr09dbt3\n",
      "INFO:tensorflow:Using config: {'_model_dir': '/var/folders/_7/c28_8vl522n4nj1h8x0r4m300000gn/T/tmpkr09dbt3', '_tf_random_seed': None, '_save_summary_steps': 100, '_save_checkpoints_steps': None, '_save_checkpoints_secs': 600, '_session_config': None, '_keep_checkpoint_max': 5, '_keep_checkpoint_every_n_hours': 10000, '_log_step_count_steps': 100, '_train_distribute': None, '_service': None, '_cluster_spec': <tensorflow.python.training.server_lib.ClusterSpec object at 0x181fed3780>, '_task_type': 'worker', '_task_id': 0, '_global_id_in_cluster': 0, '_master': '', '_evaluation_master': '', '_is_chief': True, '_num_ps_replicas': 0, '_num_worker_replicas': 1}\n"
     ]
    }
   ],
   "source": [
    "DNNEstimator = tf.estimator.DNNClassifier(feature_columns=student_feature_columns,\n",
    "                                          hidden_units=[8, 8],\n",
    "                                          n_classes=2)"
   ]
  },
  {
   "cell_type": "markdown",
   "metadata": {},
   "source": [
    "### Train the DNN Classification Estimator ###"
   ]
  },
  {
   "cell_type": "code",
   "execution_count": 15,
   "metadata": {},
   "outputs": [
    {
     "name": "stdout",
     "output_type": "stream",
     "text": [
      "INFO:tensorflow:Calling model_fn.\n",
      "INFO:tensorflow:Done calling model_fn.\n",
      "INFO:tensorflow:Create CheckpointSaverHook.\n",
      "INFO:tensorflow:Graph was finalized.\n",
      "INFO:tensorflow:Running local_init_op.\n",
      "INFO:tensorflow:Done running local_init_op.\n",
      "INFO:tensorflow:Saving checkpoints for 1 into /var/folders/_7/c28_8vl522n4nj1h8x0r4m300000gn/T/tmpkr09dbt3/model.ckpt.\n",
      "INFO:tensorflow:loss = 91.86572, step = 1\n",
      "INFO:tensorflow:global_step/sec: 561.097\n",
      "INFO:tensorflow:loss = 16.958586, step = 101 (0.179 sec)\n",
      "INFO:tensorflow:global_step/sec: 1082.74\n",
      "INFO:tensorflow:loss = 13.834175, step = 201 (0.093 sec)\n",
      "INFO:tensorflow:global_step/sec: 1105.82\n",
      "INFO:tensorflow:loss = 12.071472, step = 301 (0.090 sec)\n",
      "INFO:tensorflow:global_step/sec: 1095.42\n",
      "INFO:tensorflow:loss = 10.057884, step = 401 (0.091 sec)\n",
      "INFO:tensorflow:global_step/sec: 1026.36\n",
      "INFO:tensorflow:loss = 8.331204, step = 501 (0.100 sec)\n",
      "INFO:tensorflow:global_step/sec: 749.604\n",
      "INFO:tensorflow:loss = 7.071121, step = 601 (0.132 sec)\n",
      "INFO:tensorflow:global_step/sec: 787.203\n",
      "INFO:tensorflow:loss = 6.029094, step = 701 (0.126 sec)\n",
      "INFO:tensorflow:global_step/sec: 877.701\n",
      "INFO:tensorflow:loss = 5.131758, step = 801 (0.113 sec)\n",
      "INFO:tensorflow:global_step/sec: 997.705\n",
      "INFO:tensorflow:loss = 4.4112263, step = 901 (0.101 sec)\n",
      "INFO:tensorflow:Saving checkpoints for 1000 into /var/folders/_7/c28_8vl522n4nj1h8x0r4m300000gn/T/tmpkr09dbt3/model.ckpt.\n",
      "INFO:tensorflow:Loss for final step: 3.8177402.\n"
     ]
    },
    {
     "data": {
      "text/plain": [
       "<tensorflow.python.estimator.canned.dnn.DNNClassifier at 0x181fceee10>"
      ]
     },
     "execution_count": 15,
     "metadata": {},
     "output_type": "execute_result"
    }
   ],
   "source": [
    "DNNEstimator.train(input_fn=input_func, steps=1000)"
   ]
  },
  {
   "cell_type": "markdown",
   "metadata": {},
   "source": [
    "Have a nice day..."
   ]
  }
 ],
 "metadata": {
  "kernelspec": {
   "display_name": "Python 3",
   "language": "python",
   "name": "python3"
  },
  "language_info": {
   "codemirror_mode": {
    "name": "ipython",
    "version": 3
   },
   "file_extension": ".py",
   "mimetype": "text/x-python",
   "name": "python",
   "nbconvert_exporter": "python",
   "pygments_lexer": "ipython3",
   "version": "3.6.3"
  }
 },
 "nbformat": 4,
 "nbformat_minor": 2
}
