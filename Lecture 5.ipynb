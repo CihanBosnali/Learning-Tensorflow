{
 "cells": [
  {
   "cell_type": "markdown",
   "metadata": {},
   "source": [
    "## Lecture 5 - Custom Estimators in TF ##\n",
    "In this Lecture, We are going to create our custom estimator for deep learning."
   ]
  },
  {
   "cell_type": "code",
   "execution_count": 1,
   "metadata": {},
   "outputs": [
    {
     "name": "stderr",
     "output_type": "stream",
     "text": [
      "/Users/cihan/anaconda3/lib/python3.6/site-packages/h5py/__init__.py:36: FutureWarning: Conversion of the second argument of issubdtype from `float` to `np.floating` is deprecated. In future, it will be treated as `np.float64 == np.dtype(float).type`.\n",
      "  from ._conv import register_converters as _register_converters\n"
     ]
    }
   ],
   "source": [
    "import tensorflow as tf\n",
    "\n",
    "# Plot drawing library\n",
    "import matplotlib.pyplot as plt\n",
    "\n",
    "# Make plots usable in notebook\n",
    "%matplotlib inline"
   ]
  },
  {
   "cell_type": "markdown",
   "metadata": {},
   "source": [
    "### Prepare data ###\n",
    "I will be using the same dataset with Lecture 3 and 4. We will have 2 features that will be used for model. Let's assume they are math and english scores for a student. We have 40 data points."
   ]
  },
  {
   "cell_type": "code",
   "execution_count": 2,
   "metadata": {
    "collapsed": true
   },
   "outputs": [],
   "source": [
    "data = [[35, 40],[43, 30],[38, 31],[40, 40],[30, 50],[40, 60],[30, 50],[20, 60],[50, 50],[43, 50],\n",
    "        [35, 40],[43, 30],[31, 21],[40, 60],[30, 50],[40, 60],[27, 67],[45, 54],[34, 43],[43, 40],\n",
    "        [85, 90],[83, 80],[78, 91],[60, 90],[75, 85],[78, 80],[98, 80],[90, 60],[93, 83],[73, 93],\n",
    "        [82, 94],[93, 62],[69, 75],[80, 60],[70, 90],[90, 60],[97, 67],[65, 84],[74, 95],[98, 83]]\n",
    "labels = [0, 0, 0, 0, 0, 0, 0, 0, 0, 0, 0, 0, 0, 0, 0, 0, 0, 0, 0, 0,\n",
    "          1, 1, 1, 1, 1, 1, 1, 1, 1, 1, 1, 1, 1, 1, 1, 1, 1, 1, 1, 1]"
   ]
  },
  {
   "cell_type": "markdown",
   "metadata": {},
   "source": [
    "### Let's see our data on a plot ###\n",
    "We created a plot using Matplotlib. As you see, the green dots are the students who are accepted. Our classifier will detect if a new student is accepted or not."
   ]
  },
  {
   "cell_type": "code",
   "execution_count": 8,
   "metadata": {},
   "outputs": [
    {
     "data": {
      "text/plain": [
       "[]"
      ]
     },
     "execution_count": 8,
     "metadata": {},
     "output_type": "execute_result"
    },
    {
     "data": {
      "image/png": "[encoded data removed]",
      "text/plain": [
       "<matplotlib.figure.Figure at 0x18199ca4e0>"
      ]
     },
     "metadata": {},
     "output_type": "display_data"
    }
   ],
   "source": [
    "for i in range(len(data)):\n",
    "    if labels[i] == 1:\n",
    "        plt.scatter(data[i][0], data[i][1], s=120, marker='+', linewidths=2, color='green')\n",
    "    else:\n",
    "        plt.scatter(data[i][0], data[i][1], s=120, marker='+', linewidths=2, color='red')\n",
    "plt.plot()"
   ]
  },
  {
   "cell_type": "markdown",
   "metadata": {},
   "source": [
    "### Prepare input function ###\n",
    "As we learned from Lecture 3, this function will run while running training function and put the data into the training process."
   ]
  },
  {
   "cell_type": "code",
   "execution_count": 6,
   "metadata": {
    "collapsed": true
   },
   "outputs": [],
   "source": [
    "def input_func():\n",
    "    global data \n",
    "    global labels\n",
    "    mathArray, englishArray = [], []\n",
    "    for data_point in data:\n",
    "        mathArray.append(data_point[0])\n",
    "        englishArray.append(data_point[1])\n",
    "    feature_dict = {\"math_score\": mathArray, \"english_score\": englishArray}\n",
    "    return feature_dict, labels"
   ]
  },
  {
   "cell_type": "markdown",
   "metadata": {},
   "source": [
    "### Create Feature Columns ### \n",
    "As we learned from Lecture 3, we need some feature columns to use the data for training."
   ]
  },
  {
   "cell_type": "code",
   "execution_count": 7,
   "metadata": {
    "collapsed": true
   },
   "outputs": [],
   "source": [
    "student_feature_columns = [tf.feature_column.numeric_column(\"math_score\"), \n",
    "                           tf.feature_column.numeric_column(\"english_score\")]"
   ]
  },
  {
   "cell_type": "markdown",
   "metadata": {},
   "source": [
    "### Create a Model Function ###\n",
    "In Lecture 3 and 4, we used  model functions created by Tensorflow Team, but now we can start to create our own models."
   ]
  },
  {
   "cell_type": "code",
   "execution_count": 9,
   "metadata": {
    "collapsed": true
   },
   "outputs": [],
   "source": [
    "def DNNmodel(features, labels, mode, params):\n",
    "    # This is the input layer that uses the features from input function\n",
    "    net = tf.feature_column.input_layer(features, params[\"feature_columns\"])\n",
    "    \n",
    "    # If you are creating a Deep Learning model, you can use tf.layers\n",
    "    # for many layers that you need such as fully connected, convolutional, pooling and dropout.\n",
    "    # tf.layers.dense is the fully connected layer. \n",
    "    for units in params[\"hidden_units\"]:\n",
    "        net = tf.layers.dense(net, units=units, activation=tf.nn.relu)\n",
    "        \n",
    "    # Compute logits for every class\n",
    "    logits = tf.layers.dense(net, params[\"n_classes\"], activation=None)\n",
    "    \n",
    "    # Compute the predictions of the net\n",
    "    predicted_classes = tf.argmax(logits, 1)\n",
    "    \n",
    "    # Modes are used to implement training, evaluation, and prediction to the estimator.\n",
    "    if mode == tf.estimator.ModeKeys.PREDICT:\n",
    "        predictions = {\n",
    "            \"class_ids\": predicted_classes[:, tf.newaxis],\n",
    "            \"probabilities\": tf.nn.softmax(logits),\n",
    "            \"logits\": logits\n",
    "        }\n",
    "        return tf.estimator.EstimatorSpec(mode, predictions=predictions)\n",
    "    \n",
    "    # Compute the Loss\n",
    "    # For both training and evaluation, we will need a loss value.\n",
    "    # This is what will we try to optimize.\n",
    "    loss = tf.losses.sparse_softmax_cross_entropy(labels=labels, logits=logits)\n",
    "    \n",
    "    # Compute evoluation metrics\n",
    "    # This metric shows how accurate our model is.\n",
    "    accuracy = tf.metrics.accuracy(labels=labels, predictions=predicted_classes, name=\"acc_op\")\n",
    "    \n",
    "    metrics = {\"accuracy\": accuracy}\n",
    "    \n",
    "    # The tf.summary.scalar will make accuracy available to TensorBoard\n",
    "    tf.summary.scalar(\"accuracy\", accuracy[1])\n",
    "    \n",
    "    if mode == tf.estimator.ModeKeys.EVAL:\n",
    "        # The EstimatorSpec contains the following info:\n",
    "        # loss: model's loss\n",
    "        # eval_metric_ops: An optional dictionary of metrics\n",
    "        return tf.estimator.EstimatorSpec(mode, loss=loss, eval_metric_ops=metrics)\n",
    "    \n",
    "    # Optimizers are used in training to optimize the model using loss\n",
    "    optimizer = tf.train.AdagradOptimizer(learning_rate=0.1)\n",
    "    \n",
    "    # Minimize loss using optimizer.minimize operation\n",
    "    train_op = optimizer.minimize(loss, global_step=tf.train.get_global_step())\n",
    "    \n",
    "    if mode == tf.estimator.ModeKeys.TRAIN:\n",
    "        #The EstimatorSpec for training must have the following:\n",
    "        #loss:  the value comes from the loss function.\n",
    "        #train_op: executes a training step.\n",
    "        return tf.estimator.EstimatorSpec(mode, loss=loss, train_op=train_op)"
   ]
  },
  {
   "cell_type": "markdown",
   "metadata": {},
   "source": [
    "### Create Custom Estimator using Model Function ###"
   ]
  },
  {
   "cell_type": "code",
   "execution_count": 10,
   "metadata": {},
   "outputs": [
    {
     "name": "stdout",
     "output_type": "stream",
     "text": [
      "INFO:tensorflow:Using default config.\n",
      "WARNING:tensorflow:Using temporary folder as model directory: /var/folders/_7/c28_8vl522n4nj1h8x0r4m300000gn/T/tmpdmpnjhbe\n",
      "INFO:tensorflow:Using config: {'_model_dir': '/var/folders/_7/c28_8vl522n4nj1h8x0r4m300000gn/T/tmpdmpnjhbe', '_tf_random_seed': None, '_save_summary_steps': 100, '_save_checkpoints_steps': None, '_save_checkpoints_secs': 600, '_session_config': None, '_keep_checkpoint_max': 5, '_keep_checkpoint_every_n_hours': 10000, '_log_step_count_steps': 100, '_train_distribute': None, '_service': None, '_cluster_spec': <tensorflow.python.training.server_lib.ClusterSpec object at 0x1819c04a58>, '_task_type': 'worker', '_task_id': 0, '_global_id_in_cluster': 0, '_master': '', '_evaluation_master': '', '_is_chief': True, '_num_ps_replicas': 0, '_num_worker_replicas': 1}\n"
     ]
    }
   ],
   "source": [
    "CustomClassifier = tf.estimator.Estimator(model_fn=DNNmodel,\n",
    "                                          params={\n",
    "                                            \"feature_columns\": student_feature_columns,\n",
    "                                            \"hidden_units\": [8, 8],\n",
    "                                            \"n_classes\": 2\n",
    "                                          })"
   ]
  },
  {
   "cell_type": "markdown",
   "metadata": {},
   "source": [
    "### Train The Custom Estimator ###"
   ]
  },
  {
   "cell_type": "code",
   "execution_count": 12,
   "metadata": {},
   "outputs": [
    {
     "name": "stdout",
     "output_type": "stream",
     "text": [
      "INFO:tensorflow:Calling model_fn.\n",
      "INFO:tensorflow:Done calling model_fn.\n",
      "INFO:tensorflow:Create CheckpointSaverHook.\n",
      "INFO:tensorflow:Graph was finalized.\n",
      "INFO:tensorflow:Running local_init_op.\n",
      "INFO:tensorflow:Done running local_init_op.\n",
      "INFO:tensorflow:Saving checkpoints for 1 into /var/folders/_7/c28_8vl522n4nj1h8x0r4m300000gn/T/tmpdmpnjhbe/model.ckpt.\n",
      "INFO:tensorflow:loss = 20.148813, step = 1\n",
      "INFO:tensorflow:global_step/sec: 552.08\n",
      "INFO:tensorflow:loss = 0.3622556, step = 101 (0.181 sec)\n",
      "INFO:tensorflow:global_step/sec: 1142.42\n",
      "INFO:tensorflow:loss = 0.28347588, step = 201 (0.087 sec)\n",
      "INFO:tensorflow:global_step/sec: 1157.56\n",
      "INFO:tensorflow:loss = 0.22912192, step = 301 (0.087 sec)\n",
      "INFO:tensorflow:global_step/sec: 1175.99\n",
      "INFO:tensorflow:loss = 0.18902054, step = 401 (0.085 sec)\n",
      "INFO:tensorflow:global_step/sec: 1148.95\n",
      "INFO:tensorflow:loss = 0.15834384, step = 501 (0.087 sec)\n",
      "INFO:tensorflow:global_step/sec: 1121.22\n",
      "INFO:tensorflow:loss = 0.13427292, step = 601 (0.089 sec)\n",
      "INFO:tensorflow:global_step/sec: 1202.7\n",
      "INFO:tensorflow:loss = 0.11497182, step = 701 (0.083 sec)\n",
      "INFO:tensorflow:global_step/sec: 1099.48\n",
      "INFO:tensorflow:loss = 0.09937594, step = 801 (0.092 sec)\n",
      "INFO:tensorflow:global_step/sec: 763.657\n",
      "INFO:tensorflow:loss = 0.08657561, step = 901 (0.133 sec)\n",
      "INFO:tensorflow:Saving checkpoints for 1000 into /var/folders/_7/c28_8vl522n4nj1h8x0r4m300000gn/T/tmpdmpnjhbe/model.ckpt.\n",
      "INFO:tensorflow:Loss for final step: 0.07606941.\n"
     ]
    },
    {
     "data": {
      "text/plain": [
       "<tensorflow.python.estimator.estimator.Estimator at 0x1819c04c88>"
      ]
     },
     "execution_count": 12,
     "metadata": {},
     "output_type": "execute_result"
    }
   ],
   "source": [
    "CustomClassifier.train(input_fn=input_func, steps=1000)"
   ]
  },
  {
   "cell_type": "markdown",
   "metadata": {},
   "source": [
    "Have a good day..."
   ]
  }
 ],
 "metadata": {
  "kernelspec": {
   "display_name": "Python 3",
   "language": "python",
   "name": "python3"
  },
  "language_info": {
   "codemirror_mode": {
    "name": "ipython",
    "version": 3
   },
   "file_extension": ".py",
   "mimetype": "text/x-python",
   "name": "python",
   "nbconvert_exporter": "python",
   "pygments_lexer": "ipython3",
   "version": "3.6.3"
  }
 },
 "nbformat": 4,
 "nbformat_minor": 2
}
