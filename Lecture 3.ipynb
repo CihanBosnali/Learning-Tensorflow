{
 "cells": [
  {
   "cell_type": "markdown",
   "metadata": {},
   "source": [
    "## Lecture 3 - Pre-made Estimators in TF ##\n",
    "In this Lecture, We are going to use \"Estimators,\" a Tensorflow API that makes the workflow easier for creating a Linear Classification model."
   ]
  },
  {
   "cell_type": "code",
   "execution_count": 2,
   "metadata": {},
   "outputs": [
    {
     "name": "stderr",
     "output_type": "stream",
     "text": [
      "/Users/cihan/anaconda3/lib/python3.6/site-packages/h5py/__init__.py:36: FutureWarning: Conversion of the second argument of issubdtype from `float` to `np.floating` is deprecated. In future, it will be treated as `np.float64 == np.dtype(float).type`.\n",
      "  from ._conv import register_converters as _register_converters\n"
     ]
    }
   ],
   "source": [
    "import tensorflow as tf\n",
    "\n",
    "# Plot drawing library\n",
    "import matplotlib.pyplot as plt\n",
    "\n",
    "# Make plots usable in notebook\n",
    "%matplotlib inline"
   ]
  },
  {
   "cell_type": "markdown",
   "metadata": {},
   "source": [
    "### Prepare data ###\n",
    "We will have 2 features that will be used for model. Let's assume they are math and english scores for a student. We have 40 data points."
   ]
  },
  {
   "cell_type": "code",
   "execution_count": 3,
   "metadata": {
    "collapsed": true
   },
   "outputs": [],
   "source": [
    "data = [[35, 40],[43, 30],[38, 31],[40, 40],\n",
    "        [30, 50],[40, 60],[30, 50],[20, 60],\n",
    "        [50, 50],[43, 50],[35, 40],[43, 30],\n",
    "        [31, 21],[40, 60],[30, 50],[40, 60],\n",
    "        [27, 67],[45, 54],[34, 43],[43, 40],\n",
    "        [85, 90],[83, 80],[78, 91],[60, 90],\n",
    "        [75, 85],[78, 80],[98, 80],[90, 60],\n",
    "        [93, 83],[73, 93],[82, 94],[93, 62],\n",
    "        [69, 75],[80, 60],[70, 90],[90, 60],\n",
    "        [97, 67],[65, 84],[74, 95],[98, 83]]\n",
    "labels = [0, 0, 0, 0, 0, 0, 0, 0, 0, 0, 0, 0, 0, 0, 0, 0, 0, 0, 0, 0,\n",
    "          1, 1, 1, 1, 1, 1, 1, 1, 1, 1, 1, 1, 1, 1, 1, 1, 1, 1, 1, 1]"
   ]
  },
  {
   "cell_type": "markdown",
   "metadata": {},
   "source": [
    "### Let's see our data on a plot ###\n",
    "We created a plot using Matplotlib. As you see, the green dots are the students who are accepted. Our classifier will detect if a new student is accepted or not."
   ]
  },
  {
   "cell_type": "code",
   "execution_count": 4,
   "metadata": {},
   "outputs": [
    {
     "data": {
      "text/plain": [
       "[<matplotlib.lines.Line2D at 0x181d448c50>]"
      ]
     },
     "execution_count": 4,
     "metadata": {},
     "output_type": "execute_result"
    },
    {
     "data": {
      "image/png": "[encoded data removed]",
      "text/plain": [
       "<matplotlib.figure.Figure at 0x181d448b70>"
      ]
     },
     "metadata": {},
     "output_type": "display_data"
    }
   ],
   "source": [
    "plotX0,plotY0, plotX1, plotY1 = [],[],[],[]\n",
    "for i in range(len(data)):\n",
    "    if labels[i] == 0:\n",
    "        plotX0.append(data[i][0])\n",
    "        plotY0.append(data[i][1])\n",
    "    else:\n",
    "        plotX1.append(data[i][0])\n",
    "        plotY1.append(data[i][1])\n",
    "plt.plot(plotX0, plotY0, \"ro\")\n",
    "plt.plot(plotX1, plotY1, \"go\")"
   ]
  },
  {
   "cell_type": "markdown",
   "metadata": {},
   "source": [
    "### Prepare input function ###\n",
    "This function will run in training and put the data into the training process."
   ]
  },
  {
   "cell_type": "code",
   "execution_count": 10,
   "metadata": {
    "collapsed": true
   },
   "outputs": [],
   "source": [
    "def input_func():\n",
    "    global data \n",
    "    global labels\n",
    "    mathArray, englishArray = [], []\n",
    "    for data_point in data:\n",
    "        mathArray.append(data_point[0])\n",
    "        englishArray.append(data_point[1])\n",
    "    feature_dict = {\"math_score\": mathArray, \"english_score\": englishArray}\n",
    "    return feature_dict, labels"
   ]
  },
  {
   "cell_type": "markdown",
   "metadata": {
    "collapsed": true
   },
   "source": [
    "### Create Feature Columns ###\n",
    "Tensorflow Estimators are using a system called feature columns to get data. We will translete our data to this system. These are just like placeholders that shows where to put data. "
   ]
  },
  {
   "cell_type": "code",
   "execution_count": 6,
   "metadata": {},
   "outputs": [],
   "source": [
    "mathFeatureColumn = tf.feature_column.numeric_column(\"math_score\")\n",
    "englishFeatureColumn = tf.feature_column.numeric_column(\"english_score\")\n",
    "\n",
    "student_feature_columns = [mathFeatureColumn, englishFeatureColumn]"
   ]
  },
  {
   "cell_type": "markdown",
   "metadata": {},
   "source": [
    "### Create an Linear Classification Estimator ###"
   ]
  },
  {
   "cell_type": "code",
   "execution_count": 7,
   "metadata": {},
   "outputs": [
    {
     "name": "stdout",
     "output_type": "stream",
     "text": [
      "INFO:tensorflow:Using default config.\n",
      "WARNING:tensorflow:Using temporary folder as model directory: /var/folders/_7/c28_8vl522n4nj1h8x0r4m300000gn/T/tmp3lqrglnz\n",
      "INFO:tensorflow:Using config: {'_model_dir': '/var/folders/_7/c28_8vl522n4nj1h8x0r4m300000gn/T/tmp3lqrglnz', '_tf_random_seed': None, '_save_summary_steps': 100, '_save_checkpoints_steps': None, '_save_checkpoints_secs': 600, '_session_config': None, '_keep_checkpoint_max': 5, '_keep_checkpoint_every_n_hours': 10000, '_log_step_count_steps': 100, '_train_distribute': None, '_service': None, '_cluster_spec': <tensorflow.python.training.server_lib.ClusterSpec object at 0x181c696080>, '_task_type': 'worker', '_task_id': 0, '_global_id_in_cluster': 0, '_master': '', '_evaluation_master': '', '_is_chief': True, '_num_ps_replicas': 0, '_num_worker_replicas': 1}\n"
     ]
    }
   ],
   "source": [
    "LCEstimator = tf.estimator.LinearClassifier(feature_columns = student_feature_columns)"
   ]
  },
  {
   "cell_type": "markdown",
   "metadata": {},
   "source": [
    "### Train the Linear Classification Estimator ###"
   ]
  },
  {
   "cell_type": "code",
   "execution_count": 11,
   "metadata": {},
   "outputs": [
    {
     "name": "stdout",
     "output_type": "stream",
     "text": [
      "INFO:tensorflow:Calling model_fn.\n",
      "INFO:tensorflow:Done calling model_fn.\n",
      "INFO:tensorflow:Create CheckpointSaverHook.\n",
      "INFO:tensorflow:Graph was finalized.\n",
      "INFO:tensorflow:Running local_init_op.\n",
      "INFO:tensorflow:Done running local_init_op.\n",
      "INFO:tensorflow:Saving checkpoints for 1 into /var/folders/_7/c28_8vl522n4nj1h8x0r4m300000gn/T/tmp3lqrglnz/model.ckpt.\n",
      "INFO:tensorflow:loss = 27.725887, step = 1\n",
      "INFO:tensorflow:global_step/sec: 508.966\n",
      "INFO:tensorflow:loss = 17.027775, step = 101 (0.199 sec)\n",
      "INFO:tensorflow:global_step/sec: 976.505\n",
      "INFO:tensorflow:loss = 13.636424, step = 201 (0.103 sec)\n",
      "INFO:tensorflow:global_step/sec: 1019.56\n",
      "INFO:tensorflow:loss = 11.729805, step = 301 (0.100 sec)\n",
      "INFO:tensorflow:global_step/sec: 272.574\n",
      "INFO:tensorflow:loss = 10.310789, step = 401 (0.366 sec)\n",
      "INFO:tensorflow:global_step/sec: 721.135\n",
      "INFO:tensorflow:loss = 9.213791, step = 501 (0.136 sec)\n",
      "INFO:tensorflow:global_step/sec: 1062.14\n",
      "INFO:tensorflow:loss = 8.34023, step = 601 (0.094 sec)\n",
      "INFO:tensorflow:global_step/sec: 1115.49\n",
      "INFO:tensorflow:loss = 7.6278543, step = 701 (0.090 sec)\n",
      "INFO:tensorflow:global_step/sec: 1127.92\n",
      "INFO:tensorflow:loss = 7.0355105, step = 801 (0.089 sec)\n",
      "INFO:tensorflow:global_step/sec: 1088.43\n",
      "INFO:tensorflow:loss = 6.5349402, step = 901 (0.092 sec)\n",
      "INFO:tensorflow:Saving checkpoints for 1000 into /var/folders/_7/c28_8vl522n4nj1h8x0r4m300000gn/T/tmp3lqrglnz/model.ckpt.\n",
      "INFO:tensorflow:Loss for final step: 6.1100864.\n"
     ]
    },
    {
     "data": {
      "text/plain": [
       "<tensorflow.python.estimator.canned.linear.LinearClassifier at 0x181d47c4e0>"
      ]
     },
     "execution_count": 11,
     "metadata": {},
     "output_type": "execute_result"
    }
   ],
   "source": [
    "LCEstimator.train(input_fn=input_func, steps=1000)"
   ]
  },
  {
   "cell_type": "markdown",
   "metadata": {},
   "source": [
    "Have a good day..."
   ]
  }
 ],
 "metadata": {
  "kernelspec": {
   "display_name": "Python 3",
   "language": "python",
   "name": "python3"
  },
  "language_info": {
   "codemirror_mode": {
    "name": "ipython",
    "version": 3
   },
   "file_extension": ".py",
   "mimetype": "text/x-python",
   "name": "python",
   "nbconvert_exporter": "python",
   "pygments_lexer": "ipython3",
   "version": "3.6.3"
  }
 },
 "nbformat": 4,
 "nbformat_minor": 2
}
